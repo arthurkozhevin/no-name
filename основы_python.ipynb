{
  "cells": [
    {
      "cell_type": "markdown",
      "metadata": {
        "id": "M-DGa20PaHnu"
      },
      "source": [
        "#Задача 1\n",
        "Написать функцию на вход которой подается строка, состоящая из латинских букв.\n",
        "Функция должна вернуть количество гласных букв (a, e, i, o, u) в этой строке. Написать тесты для кода"
      ]
    },
    {
      "cell_type": "code",
      "execution_count": 2,
      "metadata": {
        "id": "XvX8X_JJ6PCb"
      },
      "outputs": [
        {
          "name": "stdout",
          "output_type": "stream",
          "text": [
            "Все тесты пройдены успешно!\n"
          ]
        }
      ],
      "source": [
        "def count_vowels(string):\n",
        "    vowels = 'aeiouAEIOU'\n",
        "    count = 0\n",
        "    for char in string:\n",
        "        if char in vowels:\n",
        "            count += 1\n",
        "    return count\n",
        "\n",
        "def test_count_vowels():\n",
        "    assert count_vowels(\"hello\") == 2  # 'e' и 'o' - гласные\n",
        "    assert count_vowels(\"aeiouAEIOU\") == 10\n",
        "    assert count_vowels(\"\") == 0\n",
        "    assert count_vowels(\"xyz\") == 0\n",
        "    assert count_vowels(\"python is fun\") == 3  # 'o', 'i' и 'u' - гласные\n",
        "\n",
        "    print(\"Все тесты пройдены успешно!\")\n",
        "\n",
        "test_count_vowels()\n"
      ]
    },
    {
      "cell_type": "markdown",
      "metadata": {
        "id": "t2ClV_Y0bbr6"
      },
      "source": [
        "# Задача 2\n",
        "Написать функцию на вход, которой подается строка. Функция должна вернуть true, если\n",
        "каждый символ в строке встречается только 1 раз, иначе должна вернуть false. Написать тесты для кода"
      ]
    },
    {
      "cell_type": "code",
      "execution_count": 4,
      "metadata": {
        "id": "FppbECao6VIz"
      },
      "outputs": [
        {
          "name": "stdout",
          "output_type": "stream",
          "text": [
            "Все тесты пройдены успешно!\n"
          ]
        }
      ],
      "source": [
        "def is_unique(string):\n",
        "    seen = set()\n",
        "    for char in string:\n",
        "        if char in seen:\n",
        "            return False\n",
        "        seen.add(char)\n",
        "    return True\n",
        "\n",
        "def test_is_unique():\n",
        "    assert is_unique(\"abcdefg\") == True\n",
        "    assert is_unique(\"hello\") == False\n",
        "    assert is_unique(\"\") == True\n",
        "    assert is_unique(\"a\") == True\n",
        "    assert is_unique(\"abcabc\") == False\n",
        "\n",
        "    print(\"Все тесты пройдены успешно!\")\n",
        "\n",
        "test_is_unique()\n"
      ]
    },
    {
      "cell_type": "markdown",
      "metadata": {
        "id": "udRiIK1cdt6E"
      },
      "source": [
        "# Задача 3\n",
        "Написать функцию, которая принимает положительное число и возвращает количество\n",
        "бит равных 1 в этом числе. Написать тесты для кода"
      ]
    },
    {
      "cell_type": "code",
      "execution_count": 6,
      "metadata": {
        "id": "6tkfDJRz6dp_"
      },
      "outputs": [
        {
          "name": "stdout",
          "output_type": "stream",
          "text": [
            "Все тесты пройдены успешно!\n"
          ]
        }
      ],
      "source": [
        "def count_set_bits(num):\n",
        "    count = 0\n",
        "    while num:\n",
        "        count += num & 1\n",
        "        num >>= 1\n",
        "    return count\n",
        "\n",
        "def test_count_set_bits():\n",
        "    assert count_set_bits(5) == 2\n",
        "    assert count_set_bits(15) == 4\n",
        "    assert count_set_bits(0) == 0\n",
        "    assert count_set_bits(1) == 1\n",
        "    assert count_set_bits(255) == 8\n",
        "\n",
        "    print(\"Все тесты пройдены успешно!\")\n",
        "\n",
        "test_count_set_bits()\n"
      ]
    },
    {
      "cell_type": "markdown",
      "metadata": {
        "id": "26dDUz-Ae17N"
      },
      "source": [
        "# Задача 4\n",
        "Написать функцию, которая принимает положительное число. Функция должна вернуть то,\n",
        "сколько раз необходимо перемножать цифры числа или результат перемножения, чтобы\n",
        "получилось число состоящее из одной цифры.\n",
        "Например, для входного числа:\n",
        "· 39 функция должна вернуть 3, так как 3*9=27 => 2*7=14 => 1*4=4\n",
        "· 4 функция должна вернуть 0, так как число уже состоит из одной цифры\n",
        "· 999 функция должна вернуть 4, так как 9*9*9=729 => 7*2*9=126 => 1*2*6=12 =>\n",
        "1*2=2. Написать тесты для кода"
      ]
    },
    {
      "cell_type": "code",
      "execution_count": 7,
      "metadata": {
        "id": "BH1A_Mgi6i4G"
      },
      "outputs": [
        {
          "name": "stdout",
          "output_type": "stream",
          "text": [
            "Все тесты пройдены успешно!\n"
          ]
        }
      ],
      "source": [
        "def magic(n):\n",
        "    if n < 10:\n",
        "        return 0\n",
        "    count = 0\n",
        "\n",
        "    while n >= 10:\n",
        "        result_multiplication = 1\n",
        "        temp = n\n",
        "        while temp > 0:\n",
        "            result_multiplication = result_multiplication * (temp % 10)\n",
        "            temp //= 10\n",
        "        n = result_multiplication\n",
        "        count += 1\n",
        "\n",
        "    return count\n",
        "\n",
        "def test_magic():\n",
        "    assert magic(39) == 3\n",
        "    assert magic(4) == 0\n",
        "    assert magic(999) == 4\n",
        "    assert magic(123456789) == 2\n",
        "    assert magic(7) == 0\n",
        "\n",
        "    print(\"Все тесты пройдены успешно!\")\n",
        "\n",
        "test_magic()\n"
      ]
    },
    {
      "cell_type": "markdown",
      "metadata": {
        "id": "0nS-kIa8g8vd"
      },
      "source": [
        "# Задача 5\n",
        "Написать функцию, которая принимает два целочисленных вектора одинаковой длины и\n",
        "возвращает среднеквадратическое отклонение двух векторов. Написать тесты для кода"
      ]
    },
    {
      "cell_type": "code",
      "execution_count": 8,
      "metadata": {
        "id": "8iphx4LM6xbx"
      },
      "outputs": [
        {
          "name": "stdout",
          "output_type": "stream",
          "text": [
            "Все тесты пройдены успешно!\n"
          ]
        }
      ],
      "source": [
        "import math\n",
        "\n",
        "def mean_squared_difference(vector1, vector2):\n",
        "    \n",
        "    if len(vector1) != len(vector2):\n",
        "        raise ValueError(\"Векторы должны иметь одинаковую длину.\")\n",
        "    \n",
        "    n = len(vector1)\n",
        "    squared_diff_sum = sum((vector1[i] - vector2[i])**2 for i in range(n))\n",
        "    mean_squared_diff = squared_diff_sum / n\n",
        "    rmsd = math.sqrt(mean_squared_diff)\n",
        "    \n",
        "    return rmsd\n",
        "\n",
        "def test_mean_squared_difference():\n",
        "    assert mean_squared_difference([0, 0, 0], [0, 0, 0]) == 0\n",
        "    assert mean_squared_difference([1, 2, 3], [1, 2, 3]) == 0\n",
        "    assert mean_squared_difference([1, 2, 3], [4, 5, 6]) == math.sqrt(9)\n",
        "    \n",
        "    try:\n",
        "        mean_squared_difference([1, 2, 3], [4, 5])\n",
        "    except ValueError:\n",
        "        pass\n",
        "    else:\n",
        "        raise AssertionError(\"Ожидалось исключение ValueError\")\n",
        "    \n",
        "    print(\"Все тесты пройдены успешно!\")\n",
        "\n",
        "test_mean_squared_difference()\n"
      ]
    },
    {
      "cell_type": "markdown",
      "metadata": {
        "id": "vpIPKL439zkw"
      },
      "source": [
        "# Задача 6\n",
        "Написать функцию, принимающая целое положительное число. Функция должна вернуть\n",
        "строку вида “(n1**p1)(n2**p2)…(nk**pk)” представляющая разложение числа на простые\n",
        "множители (если pi == 1, то выводить только ni).\n",
        "Например, для числа 86240 функция должна вернуть “(2**5)(5)(7**2)(11)”. Написать тесты для кода"
      ]
    },
    {
      "cell_type": "code",
      "execution_count": 9,
      "metadata": {
        "id": "pFebmcZk94Jw"
      },
      "outputs": [
        {
          "name": "stdout",
          "output_type": "stream",
          "text": [
            "Все тесты пройдены успешно!\n"
          ]
        }
      ],
      "source": [
        "def prime_factors(n):\n",
        "    factors = []\n",
        "    divisor = 2\n",
        "    while n > 1:\n",
        "        count = 0\n",
        "        while n % divisor == 0:\n",
        "            count += 1\n",
        "            n //= divisor\n",
        "        if count:\n",
        "            factors.append((divisor, count))\n",
        "        divisor += 1\n",
        "    return factors\n",
        "\n",
        "def factorization_string(n):\n",
        "    factors = prime_factors(n)\n",
        "    result = \"\"\n",
        "    for factor, power in factors:\n",
        "        if power == 1:\n",
        "            result += f\"({factor})\"\n",
        "        else:\n",
        "            result += f\"({factor}**{power})\"\n",
        "    return result\n",
        "\n",
        "def test_factorization_string():\n",
        "    assert factorization_string(86240) == \"(2**5)(5)(7**2)(11)\"\n",
        "    assert factorization_string(2) == \"(2)\"\n",
        "    assert factorization_string(3) == \"(3)\"\n",
        "    assert factorization_string(25) == \"(5**2)\"\n",
        "    assert factorization_string(100) == \"(2**2)(5**2)\"\n",
        "\n",
        "    print(\"Все тесты пройдены успешно!\")\n",
        "\n",
        "test_factorization_string()\n"
      ]
    },
    {
      "cell_type": "markdown",
      "metadata": {
        "id": "ps2s0BudX7A2"
      },
      "source": [
        "# Задача 7\n",
        "Написать функцию, принимающая целое число n, задающее количество кубиков. Функция\n",
        "должна определить, можно ли из данного кол-ва кубиков построить пирамиду, то есть\n",
        "можно ли представить число n как 1^2+2^2+3^2+…+k^2. Если можно, то функция должна\n",
        "вернуть k, иначе строку “It is impossible”. Написать тесты для кода"
      ]
    },
    {
      "cell_type": "code",
      "execution_count": 10,
      "metadata": {
        "id": "3YPjEXxhX_YT"
      },
      "outputs": [
        {
          "name": "stdout",
          "output_type": "stream",
          "text": [
            "Все тесты пройдены успешно!\n"
          ]
        }
      ],
      "source": [
        "def pyramid_levels(n):\n",
        "    total_cubes = 0\n",
        "    levels = 0\n",
        "    \n",
        "    while total_cubes < n:\n",
        "        levels += 1\n",
        "        total_cubes += levels ** 2\n",
        "    \n",
        "    if total_cubes == n:\n",
        "        return levels\n",
        "    else:\n",
        "        return \"It is impossible\"\n",
        "\n",
        "def test_pyramid_levels():\n",
        "    assert pyramid_levels(1) == 1\n",
        "    assert pyramid_levels(5) == 2\n",
        "    assert pyramid_levels(14) == 3\n",
        "    assert pyramid_levels(30) == 4\n",
        "    assert pyramid_levels(3) == \"It is impossible\"\n",
        "    assert pyramid_levels(13) == \"It is impossible\"\n",
        "    assert pyramid_levels(29) == \"It is impossible\"\n",
        "    \n",
        "    print(\"Все тесты пройдены успешно!\")\n",
        "\n",
        "test_pyramid_levels()\n",
        "\n"
      ]
    },
    {
      "cell_type": "markdown",
      "metadata": {
        "id": "KeKgmIdAQMEJ"
      },
      "source": [
        "# Задача 8\n",
        "Функция принимает на вход положительное число и определяет является ли оно сбалансированным, т.е. сумма цифр до средних равна сумме цифр после. Средними в случае нечетного числа цифр считать одну цифру, в случае четного - две средних. Написать тесты для кода"
      ]
    },
    {
      "cell_type": "code",
      "execution_count": 11,
      "metadata": {
        "id": "gMAAqtqlQrZt"
      },
      "outputs": [
        {
          "name": "stdout",
          "output_type": "stream",
          "text": [
            "Все тесты пройдены успешно!\n"
          ]
        }
      ],
      "source": [
        "def is_balanced(number):\n",
        "    number_str = str(number)\n",
        "    length = len(number_str)\n",
        "    if length % 2 == 0:\n",
        "        mid_left = length // 2 - 1\n",
        "        mid_right = length // 2\n",
        "    else:\n",
        "        mid_left = mid_right = length // 2\n",
        "\n",
        "    left_sum = sum(map(int, number_str[:mid_left + 1]))\n",
        "    right_sum = sum(map(int, number_str[mid_right:]))\n",
        "\n",
        "    return left_sum == right_sum\n",
        "\n",
        "def test_is_balanced():\n",
        "    assert is_balanced(12321) == True\n",
        "    assert is_balanced(12345) == False\n",
        "    assert is_balanced(123321) == True\n",
        "    assert is_balanced(12344321) == True\n",
        "    assert is_balanced(1) == True\n",
        "    assert is_balanced(1221) == True\n",
        "\n",
        "    print(\"Все тесты пройдены успешно!\")\n",
        "\n",
        "test_is_balanced()\n"
      ]
    }
  ],
  "metadata": {
    "colab": {
      "provenance": []
    },
    "kernelspec": {
      "display_name": "Python 3",
      "name": "python3"
    },
    "language_info": {
      "codemirror_mode": {
        "name": "ipython",
        "version": 3
      },
      "file_extension": ".py",
      "mimetype": "text/x-python",
      "name": "python",
      "nbconvert_exporter": "python",
      "pygments_lexer": "ipython3",
      "version": "3.12.2"
    }
  },
  "nbformat": 4,
  "nbformat_minor": 0
}
